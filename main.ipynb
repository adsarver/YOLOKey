{
 "cells": [
  {
   "cell_type": "code",
   "execution_count": null,
   "id": "b4bd585d",
   "metadata": {
    "vscode": {
     "languageId": "plaintext"
    }
   },
   "outputs": [],
   "source": [
    "!pip install roboflow\n",
    "\n",
    "from roboflow import Roboflow\n",
    "rf = Roboflow(api_key=\"b8TMwpmivijSe5dwxMkv\")\n",
    "project = rf.workspace(\"yolo-keyboard-key-recognition\").project(\"keyboard-key-recognition-kw7nc\")\n",
    "version = project.version(26)\n",
    "dataset = version.download(\"yolov9\")\n",
    "!mv Keyboard-Key-Recognition-26 dataset"
   ]
  },
  {
   "cell_type": "code",
   "execution_count": null,
   "id": "0389661b",
   "metadata": {
    "vscode": {
     "languageId": "plaintext"
    }
   },
   "outputs": [],
   "source": [
    "import sys, os\n",
    "sys.path.append(os.path.abspath(os.path.join(os.path.dirname('.'), '..')))\n",
    "from YOLOKey.helpers.train import train\n",
    "from YOLOKey.models.YOLOMax import YOLOMax\n",
    "\n",
    "config = {\n",
    "    'data_yaml': 'dataset/data.yaml',\n",
    "    'img_size': 640,\n",
    "    'batch_size': 32,\n",
    "    'epochs': 500,\n",
    "    'learning_rate': 0.001\n",
    "}\n",
    "train(config, YOLOMax, 'YOLOKey/yolov9-t-converted.pt', 12)"
   ]
  }
 ],
 "metadata": {
  "language_info": {
   "name": "python"
  }
 },
 "nbformat": 4,
 "nbformat_minor": 5
}
