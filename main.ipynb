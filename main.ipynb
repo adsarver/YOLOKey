{
 "cells": [
  {
   "cell_type": "code",
   "execution_count": null,
   "id": "0389661b",
   "metadata": {
    "vscode": {
     "languageId": "plaintext"
    }
   },
   "outputs": [],
   "source": [
    "import train\n",
    "\n",
    "config = {\n",
    "    'data_yaml': 'datase128/data.yaml',\n",
    "    'img_size': 128,\n",
    "    'batch_size': 16,\n",
    "    'epochs': 50,\n",
    "    'learning_rate': 0.001\n",
    "}\n",
    "train.train(config)\n"
   ]
  }
 ],
 "metadata": {
  "language_info": {
   "name": "python"
  }
 },
 "nbformat": 4,
 "nbformat_minor": 5
}
