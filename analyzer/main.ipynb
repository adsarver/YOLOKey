{
 "cells": [
  {
   "cell_type": "code",
   "execution_count": null,
   "id": "b307e87c",
   "metadata": {},
   "outputs": [],
   "source": [
    "# Imports and constants\n",
    "import pandas as pd\n",
    "import sys, os\n",
    "sys.path.append(os.path.abspath(os.path.join(os.path.dirname('.'), '..')))\n",
    "\n",
    "from analyzer import *\n",
    "\n",
    "MAIN_DIR = \"YOLOKey/\""
   ]
  },
  {
   "cell_type": "code",
   "execution_count": null,
   "id": "ba0c8755",
   "metadata": {},
   "outputs": [
    {
     "ename": "ValueError",
     "evalue": "invalid literal for int() with base 10: '_21'",
     "output_type": "error",
     "traceback": [
      "\u001b[0;31m---------------------------------------------------------------------------\u001b[0m",
      "\u001b[0;31mValueError\u001b[0m                                Traceback (most recent call last)",
      "Cell \u001b[0;32mIn[2], line 2\u001b[0m\n\u001b[1;32m      1\u001b[0m \u001b[38;5;66;03m# Import data\u001b[39;00m\n\u001b[0;32m----> 2\u001b[0m data, models \u001b[38;5;241m=\u001b[39m \u001b[43mimport_data\u001b[49m\u001b[43m(\u001b[49m\u001b[43mMAIN_DIR\u001b[49m\u001b[43m)\u001b[49m\n\u001b[1;32m      4\u001b[0m show_plot(data, \u001b[38;5;124m'\u001b[39m\u001b[38;5;124mmAP_50\u001b[39m\u001b[38;5;124m'\u001b[39m)\n",
      "File \u001b[0;32m~/CPE520/YOLOKey/analyzer/analyzer.py:70\u001b[0m, in \u001b[0;36mimport_data\u001b[0;34m(file_path)\u001b[0m\n\u001b[1;32m     68\u001b[0m max_epoch \u001b[38;5;241m=\u001b[39m \u001b[38;5;241m0\u001b[39m\n\u001b[1;32m     69\u001b[0m model_path \u001b[38;5;241m=\u001b[39m \u001b[38;5;124m'\u001b[39m\u001b[38;5;124m'\u001b[39m\n\u001b[0;32m---> 70\u001b[0m current_epoch \u001b[38;5;241m=\u001b[39m \u001b[38;5;28;43mint\u001b[39;49m\u001b[43m(\u001b[49m\u001b[43mmodel_file\u001b[49m\u001b[38;5;241;43m.\u001b[39;49m\u001b[43msplit\u001b[49m\u001b[43m(\u001b[49m\u001b[38;5;124;43m'\u001b[39;49m\u001b[38;5;124;43m_epoch\u001b[39;49m\u001b[38;5;124;43m'\u001b[39;49m\u001b[43m)\u001b[49m\u001b[43m[\u001b[49m\u001b[38;5;241;43m-\u001b[39;49m\u001b[38;5;241;43m1\u001b[39;49m\u001b[43m]\u001b[49m\u001b[38;5;241;43m.\u001b[39;49m\u001b[43msplit\u001b[49m\u001b[43m(\u001b[49m\u001b[38;5;124;43m'\u001b[39;49m\u001b[38;5;124;43m.\u001b[39;49m\u001b[38;5;124;43m'\u001b[39;49m\u001b[43m)\u001b[49m\u001b[43m[\u001b[49m\u001b[38;5;241;43m0\u001b[39;49m\u001b[43m]\u001b[49m\u001b[43m)\u001b[49m\n\u001b[1;32m     71\u001b[0m \u001b[38;5;28;01mif\u001b[39;00m model_file\u001b[38;5;241m.\u001b[39mstartswith(\u001b[38;5;124m'\u001b[39m\u001b[38;5;124mbest_epoch\u001b[39m\u001b[38;5;124m'\u001b[39m) \u001b[38;5;129;01mand\u001b[39;00m current_epoch \u001b[38;5;241m>\u001b[39m\u001b[38;5;241m=\u001b[39m max_epoch:\n\u001b[1;32m     72\u001b[0m     max_epoch \u001b[38;5;241m=\u001b[39m current_epoch\n",
      "\u001b[0;31mValueError\u001b[0m: invalid literal for int() with base 10: '_21'"
     ]
    }
   ],
   "source": [
    "# Import data\n",
    "data, models = import_data(MAIN_DIR)\n",
    "\n",
    "show_plot(data, 'mAP_50')"
   ]
  },
  {
   "cell_type": "code",
   "execution_count": null,
   "id": "683079c4",
   "metadata": {},
   "outputs": [],
   "source": [
    "# Show and save charts"
   ]
  }
 ],
 "metadata": {
  "kernelspec": {
   "display_name": ".yolo",
   "language": "python",
   "name": "python3"
  },
  "language_info": {
   "codemirror_mode": {
    "name": "ipython",
    "version": 3
   },
   "file_extension": ".py",
   "mimetype": "text/x-python",
   "name": "python",
   "nbconvert_exporter": "python",
   "pygments_lexer": "ipython3",
   "version": "3.10.12"
  }
 },
 "nbformat": 4,
 "nbformat_minor": 5
}
